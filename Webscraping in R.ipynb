{
 "cells": [
  {
   "cell_type": "code",
   "execution_count": 13,
   "metadata": {},
   "outputs": [
    {
     "name": "stderr",
     "output_type": "stream",
     "text": [
      "Warning message:\n",
      "\"package 'httr' was built under R version 3.4.3\""
     ]
    }
   ],
   "source": [
    "library(tidyverse)\n",
    "library(jsonlite)\n",
    "library(rvest)\n",
    "library(httr)"
   ]
  },
  {
   "cell_type": "code",
   "execution_count": 27,
   "metadata": {},
   "outputs": [],
   "source": [
    "location = \"Minneapolis\"\n",
    "location <- gsub(\" \",\"+\",location)\n",
    "location_companies_url <- paste0(\"https://www.yelp.com/search?find_desc=&find_loc=\", location, \"%2C+MN&ns=1\")\n",
    "\n",
    "#https://www.yelp.com/search?find_desc=&find_loc=Minneapolis%2C+MN&ns=1"
   ]
  },
  {
   "cell_type": "code",
   "execution_count": 31,
   "metadata": {},
   "outputs": [
    {
     "ename": "ERROR",
     "evalue": "Error in UseMethod(\"read_xml\"): no applicable method for 'read_xml' applied to an object of class \"c('xml_document', 'xml_node')\"\n",
     "output_type": "error",
     "traceback": [
      "Error in UseMethod(\"read_xml\"): no applicable method for 'read_xml' applied to an object of class \"c('xml_document', 'xml_node')\"\nTraceback:\n",
      "1. read_html(location_companies_url)",
      "2. read_html.default(location_companies_url)",
      "3. suppressWarnings(read_xml(x, encoding = encoding, ..., as_html = TRUE, \n .     options = options))",
      "4. withCallingHandlers(expr, warning = function(w) invokeRestart(\"muffleWarning\"))",
      "5. read_xml(x, encoding = encoding, ..., as_html = TRUE, options = options)"
     ]
    }
   ],
   "source": [
    "location_companies_url <- \n",
    "location_results <- read_html(location_companies_url)\n",
    "\n",
    "#get links to company result pages 2-10\n",
    "next_page_url <- location_results %>%  \n",
    "  html_nodes(\".arrange_unit\") %>% \n",
    "  html_attr(\"href\") %>% \n",
    "  toString()\n",
    "\n",
    "next_page_url"
   ]
  },
  {
   "cell_type": "code",
   "execution_count": 22,
   "metadata": {},
   "outputs": [
    {
     "ename": "ERROR",
     "evalue": "Error: lexical error: invalid char in json text.\n                                       window.yPageStart = new Date().\n                     (right here) ------^\n\n",
     "output_type": "error",
     "traceback": [
      "Error: lexical error: invalid char in json text.\n                                       window.yPageStart = new Date().\n                     (right here) ------^\n\nTraceback:\n",
      "1. jsonlite::fromJSON(js)",
      "2. fromJSON_string(txt = txt, simplifyVector = simplifyVector, simplifyDataFrame = simplifyDataFrame, \n .     simplifyMatrix = simplifyMatrix, flatten = flatten, ...)",
      "3. parseJSON(txt, bigint_as_char)",
      "4. parse_string(txt, bigint_as_char)"
     ]
    }
   ],
   "source": [
    "x = jsonlite::fromJSON(js)"
   ]
  }
 ],
 "metadata": {
  "kernelspec": {
   "display_name": "R",
   "language": "R",
   "name": "ir"
  },
  "language_info": {
   "codemirror_mode": "r",
   "file_extension": ".r",
   "mimetype": "text/x-r-source",
   "name": "R",
   "pygments_lexer": "r",
   "version": "3.4.1"
  }
 },
 "nbformat": 4,
 "nbformat_minor": 2
}
