{
 "cells": [
  {
   "cell_type": "code",
   "execution_count": 2,
   "metadata": {},
   "outputs": [
    {
     "name": "stderr",
     "output_type": "stream",
     "text": [
      "Warning message:\n",
      "\"package 'ISLR' was built under R version 3.4.2\""
     ]
    }
   ],
   "source": [
    "library(tidyverse)\n",
    "library(ISLR)\n",
    "library(nnet)"
   ]
  },
  {
   "cell_type": "code",
   "execution_count": 4,
   "metadata": {},
   "outputs": [
    {
     "data": {
      "text/html": [
       "<table>\n",
       "<thead><tr><th scope=col>Sepal.Length</th><th scope=col>Sepal.Width</th><th scope=col>Petal.Length</th><th scope=col>Petal.Width</th><th scope=col>Species</th></tr></thead>\n",
       "<tbody>\n",
       "\t<tr><td>5.1   </td><td>3.5   </td><td>1.4   </td><td>0.2   </td><td>setosa</td></tr>\n",
       "\t<tr><td>4.9   </td><td>3.0   </td><td>1.4   </td><td>0.2   </td><td>setosa</td></tr>\n",
       "\t<tr><td>4.7   </td><td>3.2   </td><td>1.3   </td><td>0.2   </td><td>setosa</td></tr>\n",
       "\t<tr><td>4.6   </td><td>3.1   </td><td>1.5   </td><td>0.2   </td><td>setosa</td></tr>\n",
       "\t<tr><td>5.0   </td><td>3.6   </td><td>1.4   </td><td>0.2   </td><td>setosa</td></tr>\n",
       "\t<tr><td>5.4   </td><td>3.9   </td><td>1.7   </td><td>0.4   </td><td>setosa</td></tr>\n",
       "</tbody>\n",
       "</table>\n"
      ],
      "text/latex": [
       "\\begin{tabular}{r|lllll}\n",
       " Sepal.Length & Sepal.Width & Petal.Length & Petal.Width & Species\\\\\n",
       "\\hline\n",
       "\t 5.1    & 3.5    & 1.4    & 0.2    & setosa\\\\\n",
       "\t 4.9    & 3.0    & 1.4    & 0.2    & setosa\\\\\n",
       "\t 4.7    & 3.2    & 1.3    & 0.2    & setosa\\\\\n",
       "\t 4.6    & 3.1    & 1.5    & 0.2    & setosa\\\\\n",
       "\t 5.0    & 3.6    & 1.4    & 0.2    & setosa\\\\\n",
       "\t 5.4    & 3.9    & 1.7    & 0.4    & setosa\\\\\n",
       "\\end{tabular}\n"
      ],
      "text/markdown": [
       "\n",
       "Sepal.Length | Sepal.Width | Petal.Length | Petal.Width | Species | \n",
       "|---|---|---|---|---|---|\n",
       "| 5.1    | 3.5    | 1.4    | 0.2    | setosa | \n",
       "| 4.9    | 3.0    | 1.4    | 0.2    | setosa | \n",
       "| 4.7    | 3.2    | 1.3    | 0.2    | setosa | \n",
       "| 4.6    | 3.1    | 1.5    | 0.2    | setosa | \n",
       "| 5.0    | 3.6    | 1.4    | 0.2    | setosa | \n",
       "| 5.4    | 3.9    | 1.7    | 0.4    | setosa | \n",
       "\n",
       "\n"
      ],
      "text/plain": [
       "  Sepal.Length Sepal.Width Petal.Length Petal.Width Species\n",
       "1 5.1          3.5         1.4          0.2         setosa \n",
       "2 4.9          3.0         1.4          0.2         setosa \n",
       "3 4.7          3.2         1.3          0.2         setosa \n",
       "4 4.6          3.1         1.5          0.2         setosa \n",
       "5 5.0          3.6         1.4          0.2         setosa \n",
       "6 5.4          3.9         1.7          0.4         setosa "
      ]
     },
     "metadata": {},
     "output_type": "display_data"
    },
    {
     "name": "stdout",
     "output_type": "stream",
     "text": [
      "'data.frame':\t150 obs. of  5 variables:\n",
      " $ Sepal.Length: num  5.1 4.9 4.7 4.6 5 5.4 4.6 5 4.4 4.9 ...\n",
      " $ Sepal.Width : num  3.5 3 3.2 3.1 3.6 3.9 3.4 3.4 2.9 3.1 ...\n",
      " $ Petal.Length: num  1.4 1.4 1.3 1.5 1.4 1.7 1.4 1.5 1.4 1.5 ...\n",
      " $ Petal.Width : num  0.2 0.2 0.2 0.2 0.2 0.4 0.3 0.2 0.2 0.1 ...\n",
      " $ Species     : Factor w/ 3 levels \"setosa\",\"versicolor\",..: 1 1 1 1 1 1 1 1 1 1 ...\n"
     ]
    }
   ],
   "source": [
    "#Look over the data\n",
    "data(iris)\n",
    "head(iris)\n",
    "str(iris)"
   ]
  },
  {
   "cell_type": "code",
   "execution_count": 39,
   "metadata": {},
   "outputs": [
    {
     "data": {
      "text/html": [
       "44"
      ],
      "text/latex": [
       "44"
      ],
      "text/markdown": [
       "44"
      ],
      "text/plain": [
       "[1] 44"
      ]
     },
     "metadata": {},
     "output_type": "display_data"
    },
    {
     "data": {
      "text/html": [
       "106"
      ],
      "text/latex": [
       "106"
      ],
      "text/markdown": [
       "106"
      ],
      "text/plain": [
       "[1] 106"
      ]
     },
     "metadata": {},
     "output_type": "display_data"
    }
   ],
   "source": [
    "# Split into training and testing splits\n",
    "set.seed(123)\n",
    "ind <- sample(2, nrow(iris), replace = TRUE, prob = c(.3, .7))\n",
    "train <- iris[ind == 2,]\n",
    "test <- iris[ind == 1,]\n",
    "testX <- test[,-5]\n",
    "testY <- test[,5]\n"
   ]
  },
  {
   "cell_type": "markdown",
   "metadata": {},
   "source": [
    "# Classification Algorithms"
   ]
  },
  {
   "cell_type": "markdown",
   "metadata": {},
   "source": [
    "### Multinomial Logistic Regression\n",
    "\n",
    "What is it? \n",
    "\n",
    "When the response has more than two categories we can't use logistic regression anymore and we need to use multinomial logistic regression.\n",
    "\n",
    "This is a GLM where the random component assumes that the distribution of Y is  Multinomial(n,π), where π is a vector with probabilities of \"success\" for each category.\n",
    "\n",
    "If the response is order for exampe Low, Medium, and High then we will use Ordinal Logistic Regression but we will look at the unordered case.\n",
    "\n",
    "How we assess if the model is good or not is by using the goodness of fit test. \n",
    "\n",
    "Goodness of fit test compares the observed values to the expected (fitted or predicted) values. Most often the observed data represent the fit of the saturated model, the most complex model possible with the given data. Thus, most often the alternative hypothesis (HA) will represent the saturated model MA which fits perfectly because each observation has a separate parameter. \n",
    "\n",
    "In practice, it's a good idea to compute both X2 and G2 to see if they lead to similar results. If the resulting p-values are close, then we can be fairly confident that the large-sample approximation is working well."
   ]
  },
  {
   "cell_type": "code",
   "execution_count": 27,
   "metadata": {},
   "outputs": [
    {
     "name": "stdout",
     "output_type": "stream",
     "text": [
      "# weights:  18 (10 variable)\n",
      "initial  value 48.338941 \n",
      "iter  10 value 6.740553\n",
      "iter  20 value 4.683654\n",
      "iter  30 value 4.622101\n",
      "iter  40 value 4.613563\n",
      "iter  50 value 4.610597\n",
      "iter  60 value 4.610556\n",
      "iter  70 value 4.610542\n",
      "iter  80 value 4.610458\n",
      "iter  90 value 4.610339\n",
      "iter 100 value 4.610243\n",
      "final  value 4.610243 \n",
      "stopped after 100 iterations\n"
     ]
    },
    {
     "data": {
      "text/plain": [
       "Call:\n",
       "multinom(formula = Species ~ ., data = train)\n",
       "\n",
       "Coefficients:\n",
       "           (Intercept) Sepal.Length Sepal.Width Petal.Length Petal.Width\n",
       "versicolor    13.40180    -2.855247   -8.170263     9.737625   0.1967187\n",
       "virginica    -14.87891    -5.201302  -10.814825    16.341011  10.7361211\n",
       "\n",
       "Std. Errors:\n",
       "           (Intercept) Sepal.Length Sepal.Width Petal.Length Petal.Width\n",
       "versicolor    11.84296     13.44375    24.85049     45.43206    27.70191\n",
       "virginica     12.72187     13.45321    25.15859     45.62134    28.19950\n",
       "\n",
       "Residual Deviance: 9.220486 \n",
       "AIC: 29.22049 "
      ]
     },
     "metadata": {},
     "output_type": "display_data"
    }
   ],
   "source": [
    "fit1 <- multinom(Species~., train)\n",
    "summary(fit1)"
   ]
  },
  {
   "cell_type": "code",
   "execution_count": 28,
   "metadata": {},
   "outputs": [
    {
     "data": {
      "text/html": [
       "<table>\n",
       "<thead><tr><th></th><th scope=col>(Intercept)</th><th scope=col>Sepal.Length</th><th scope=col>Sepal.Width</th><th scope=col>Petal.Length</th><th scope=col>Petal.Width</th></tr></thead>\n",
       "<tbody>\n",
       "\t<tr><th scope=row>versicolor</th><td> 1.131625  </td><td>-0.2123848 </td><td>-0.3287768 </td><td>0.2143338  </td><td>0.007101269</td></tr>\n",
       "\t<tr><th scope=row>virginica</th><td>-1.169554  </td><td>-0.3866216 </td><td>-0.4298661 </td><td>0.3581879  </td><td>0.380720267</td></tr>\n",
       "</tbody>\n",
       "</table>\n"
      ],
      "text/latex": [
       "\\begin{tabular}{r|lllll}\n",
       "  & (Intercept) & Sepal.Length & Sepal.Width & Petal.Length & Petal.Width\\\\\n",
       "\\hline\n",
       "\tversicolor &  1.131625   & -0.2123848  & -0.3287768  & 0.2143338   & 0.007101269\\\\\n",
       "\tvirginica & -1.169554   & -0.3866216  & -0.4298661  & 0.3581879   & 0.380720267\\\\\n",
       "\\end{tabular}\n"
      ],
      "text/markdown": [
       "\n",
       "| <!--/--> | (Intercept) | Sepal.Length | Sepal.Width | Petal.Length | Petal.Width | \n",
       "|---|---|\n",
       "| versicolor |  1.131625   | -0.2123848  | -0.3287768  | 0.2143338   | 0.007101269 | \n",
       "| virginica | -1.169554   | -0.3866216  | -0.4298661  | 0.3581879   | 0.380720267 | \n",
       "\n",
       "\n"
      ],
      "text/plain": [
       "           (Intercept) Sepal.Length Sepal.Width Petal.Length Petal.Width\n",
       "versicolor  1.131625   -0.2123848   -0.3287768  0.2143338    0.007101269\n",
       "virginica  -1.169554   -0.3866216   -0.4298661  0.3581879    0.380720267"
      ]
     },
     "metadata": {},
     "output_type": "display_data"
    }
   ],
   "source": [
    "z <- summary(fit1)$coefficients/summary(fit1)$standard.errors\n",
    "z"
   ]
  },
  {
   "cell_type": "code",
   "execution_count": 29,
   "metadata": {},
   "outputs": [
    {
     "data": {
      "text/html": [
       "<table>\n",
       "<thead><tr><th></th><th scope=col>(Intercept)</th><th scope=col>Sepal.Length</th><th scope=col>Sepal.Width</th><th scope=col>Petal.Length</th><th scope=col>Petal.Width</th></tr></thead>\n",
       "<tbody>\n",
       "\t<tr><th scope=row>versicolor</th><td>0.2577920</td><td>0.8318068</td><td>0.7423244</td><td>0.8302868</td><td>0.9943341</td></tr>\n",
       "\t<tr><th scope=row>virginica</th><td>0.2421805</td><td>0.6990363</td><td>0.6672931</td><td>0.7202027</td><td>0.7034108</td></tr>\n",
       "</tbody>\n",
       "</table>\n"
      ],
      "text/latex": [
       "\\begin{tabular}{r|lllll}\n",
       "  & (Intercept) & Sepal.Length & Sepal.Width & Petal.Length & Petal.Width\\\\\n",
       "\\hline\n",
       "\tversicolor & 0.2577920 & 0.8318068 & 0.7423244 & 0.8302868 & 0.9943341\\\\\n",
       "\tvirginica & 0.2421805 & 0.6990363 & 0.6672931 & 0.7202027 & 0.7034108\\\\\n",
       "\\end{tabular}\n"
      ],
      "text/markdown": [
       "\n",
       "| <!--/--> | (Intercept) | Sepal.Length | Sepal.Width | Petal.Length | Petal.Width | \n",
       "|---|---|\n",
       "| versicolor | 0.2577920 | 0.8318068 | 0.7423244 | 0.8302868 | 0.9943341 | \n",
       "| virginica | 0.2421805 | 0.6990363 | 0.6672931 | 0.7202027 | 0.7034108 | \n",
       "\n",
       "\n"
      ],
      "text/plain": [
       "           (Intercept) Sepal.Length Sepal.Width Petal.Length Petal.Width\n",
       "versicolor 0.2577920   0.8318068    0.7423244   0.8302868    0.9943341  \n",
       "virginica  0.2421805   0.6990363    0.6672931   0.7202027    0.7034108  "
      ]
     },
     "metadata": {},
     "output_type": "display_data"
    }
   ],
   "source": [
    "p <- (1 - pnorm(abs(z), 0, 1)) * 2\n",
    "p"
   ]
  },
  {
   "cell_type": "markdown",
   "metadata": {},
   "source": [
    "#### What this means\n",
    "\n",
    "We have three levels for response variabel which is setosa versicolor and virginica. "
   ]
  },
  {
   "cell_type": "code",
   "execution_count": 47,
   "metadata": {},
   "outputs": [
    {
     "data": {
      "text/plain": [
       "            testY\n",
       "mult.pred    setosa versicolor virginica\n",
       "  setosa         15          0         0\n",
       "  versicolor      0         12         1\n",
       "  virginica       0          2        14"
      ]
     },
     "metadata": {},
     "output_type": "display_data"
    }
   ],
   "source": [
    "mult.pred <- predict(fit1, testX)\n",
    "table(mult.pred, testY)"
   ]
  },
  {
   "cell_type": "markdown",
   "metadata": {},
   "source": [
    "### LDA and QDA\n",
    "\n",
    "#### What is it?\n",
    "\n",
    "A supervised machine learning method for classification when you have more than two categories for the response. We use this over the logistic regression method in case the categories are very well seperated and the data is fairly small. With bigger datasets we will see how it stacks up with RandomForest but in general QDA works better than LDA.\n",
    "\n",
    "#### How it makes probability predictions for each of the categories?\n",
    "\n",
    "This method uses Bayes theorem to calculate the probability for each of the categories given the predictor variables for each of the observations. The classiﬁer plugs the estimates  and assigns an observation X = x to the class for which the discriminant function is largest. QDA has a quadratic one and LDA has a linear discriminant function.Lastly LDA and QDA assumes that the observations within each class are drawn from a multivariate Gaussian distribution with a class speciﬁc mean vector but only LDA assumes a covariance matrix that is common to all K classes. QDA relaxes this assumption and does not assume this so covariance matrix are different with all k classes.\n"
   ]
  },
  {
   "cell_type": "code",
   "execution_count": 40,
   "metadata": {},
   "outputs": [
    {
     "data": {
      "text/plain": [
       "Call:\n",
       "lda(Species ~ ., data = train)\n",
       "\n",
       "Prior probabilities of groups:\n",
       "    setosa versicolor  virginica \n",
       " 0.3301887  0.3396226  0.3301887 \n",
       "\n",
       "Group means:\n",
       "           Sepal.Length Sepal.Width Petal.Length Petal.Width\n",
       "setosa         4.940000    3.405714     1.445714   0.2428571\n",
       "versicolor     5.908333    2.766667     4.202778   1.3027778\n",
       "virginica      6.634286    2.925714     5.565714   2.0428571\n",
       "\n",
       "Coefficients of linear discriminants:\n",
       "                    LD1        LD2\n",
       "Sepal.Length  0.5329061  0.2942187\n",
       "Sepal.Width   2.1256776  1.9325511\n",
       "Petal.Length -1.9624296 -1.1434715\n",
       "Petal.Width  -3.5611214  3.0035717\n",
       "\n",
       "Proportion of trace:\n",
       "  LD1   LD2 \n",
       "0.993 0.007 "
      ]
     },
     "metadata": {},
     "output_type": "display_data"
    }
   ],
   "source": [
    "library (MASS)\n",
    "lda.fit <- lda(Species~., train)\n",
    "lda.fit"
   ]
  },
  {
   "cell_type": "code",
   "execution_count": 42,
   "metadata": {},
   "outputs": [
    {
     "data": {
      "text/plain": [
       "            testY\n",
       "             setosa versicolor virginica\n",
       "  setosa         15          0         0\n",
       "  versicolor      0         13         1\n",
       "  virginica       0          1        14"
      ]
     },
     "metadata": {},
     "output_type": "display_data"
    }
   ],
   "source": [
    "lda.pred <- predict(lda.fit, testX)\n",
    "table(lda.pred$class, testY)"
   ]
  },
  {
   "cell_type": "code",
   "execution_count": 43,
   "metadata": {},
   "outputs": [
    {
     "data": {
      "text/plain": [
       "Call:\n",
       "qda(Species ~ ., data = train)\n",
       "\n",
       "Prior probabilities of groups:\n",
       "    setosa versicolor  virginica \n",
       " 0.3301887  0.3396226  0.3301887 \n",
       "\n",
       "Group means:\n",
       "           Sepal.Length Sepal.Width Petal.Length Petal.Width\n",
       "setosa         4.940000    3.405714     1.445714   0.2428571\n",
       "versicolor     5.908333    2.766667     4.202778   1.3027778\n",
       "virginica      6.634286    2.925714     5.565714   2.0428571"
      ]
     },
     "metadata": {},
     "output_type": "display_data"
    }
   ],
   "source": [
    "qda.fit <- qda(Species~., train)\n",
    "qda.fit"
   ]
  },
  {
   "cell_type": "code",
   "execution_count": 44,
   "metadata": {},
   "outputs": [
    {
     "data": {
      "text/plain": [
       "            testY\n",
       "             setosa versicolor virginica\n",
       "  setosa         15          0         0\n",
       "  versicolor      0         10         1\n",
       "  virginica       0          4        14"
      ]
     },
     "metadata": {},
     "output_type": "display_data"
    }
   ],
   "source": [
    "qda.pred <- predict(qda.fit, testX)\n",
    "table(qda.pred$class, testY)"
   ]
  },
  {
   "cell_type": "markdown",
   "metadata": {},
   "source": [
    "### Classification Trees and RandomForest"
   ]
  },
  {
   "cell_type": "code",
   "execution_count": null,
   "metadata": {},
   "outputs": [],
   "source": []
  },
  {
   "cell_type": "markdown",
   "metadata": {},
   "source": [
    "### XgBoost\n",
    "\n",
    "### Naive Bayes\n",
    "\n",
    "### Support Vector Machines"
   ]
  },
  {
   "cell_type": "markdown",
   "metadata": {},
   "source": [
    "# Regression Algorithms"
   ]
  },
  {
   "cell_type": "markdown",
   "metadata": {},
   "source": [
    "### Multiple Linear Regression\n",
    "\n",
    "### Ridge Lasso and Elastic Net\n",
    "\n",
    "### Regrssion RandomForest\n",
    "\n",
    "### Least-Angle Regression (LARS)\n",
    "\n",
    "### Stepwise Regression\n",
    "\n",
    "### Multivariate Adaptive Regression Splines \n",
    "\n",
    "### Locally Estimated Scatterplot Smoothing"
   ]
  }
 ],
 "metadata": {
  "kernelspec": {
   "display_name": "R",
   "language": "R",
   "name": "ir"
  },
  "language_info": {
   "codemirror_mode": "r",
   "file_extension": ".r",
   "mimetype": "text/x-r-source",
   "name": "R",
   "pygments_lexer": "r",
   "version": "3.4.1"
  }
 },
 "nbformat": 4,
 "nbformat_minor": 2
}
